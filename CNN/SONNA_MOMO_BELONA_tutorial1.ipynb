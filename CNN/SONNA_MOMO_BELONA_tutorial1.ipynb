{
 "cells": [
  {
   "cell_type": "markdown",
   "metadata": {
    "colab_type": "text",
    "id": "mCt-frpFH8oN"
   },
   "source": [
    "The tutorials use PyTorch. You will need to load the following dependencies."
   ]
  },
  {
   "cell_type": "code",
   "execution_count": 2,
   "metadata": {
    "colab": {},
    "colab_type": "code",
    "id": "hqnl0AKVXIA4"
   },
   "outputs": [],
   "source": [
    "import random\n",
    "\n",
    "import PIL\n",
    "import imageio\n",
    "import matplotlib.pyplot as plt\n",
    "import numpy as np\n",
    "import skimage.transform\n",
    "import torch\n",
    "import torch.nn as nn\n",
    "import torch.utils.data\n",
    "import torchvision\n",
    "from torchvision import datasets, transforms\n",
    "from IPython import display\n"
   ]
  },
  {
   "cell_type": "markdown",
   "metadata": {
    "colab_type": "text",
    "id": "CKeYuM-cIXxs"
   },
   "source": [
    "The code below may be helpful in visualizing PyTorch tensors as images."
   ]
  },
  {
   "cell_type": "code",
   "execution_count": 3,
   "metadata": {
    "colab": {},
    "colab_type": "code",
    "id": "ZZd_rI8edYIB"
   },
   "outputs": [],
   "source": [
    "%matplotlib inline\n",
    "\n",
    "def show(img):\n",
    "    \"\"\"Show PyTorch tensor img as an image in matplotlib.\"\"\"\n",
    "    npimg = img.cpu().detach().numpy()\n",
    "    plt.imshow(np.transpose(npimg, (1,2,0)), interpolation='nearest')\n",
    "    plt.grid(False)\n",
    "    plt.gca().axis('off')\n",
    "\n",
    "def display_thumb(img):\n",
    "  display.display(transforms.Resize(128)(img))"
   ]
  },
  {
   "cell_type": "code",
   "execution_count": 4,
   "metadata": {
    "colab": {},
    "colab_type": "code",
    "id": "dzfEE578uSNp"
   },
   "outputs": [],
   "source": [
    "device = 'cuda' if torch.cuda.is_available() else 'cpu'"
   ]
  },
  {
   "cell_type": "markdown",
   "metadata": {
    "colab_type": "text",
    "id": "71LRkRxndajG"
   },
   "source": [
    "## First tutorial:\n",
    "\n",
    "In the first tutorial, we are going to train a logistic regressor on the MNIST dataset of handwritten digits. Next, we will turn this logistic regressor into a non-linear convolutional network.\n",
    "\n",
    "The following code will load the MNIST dataset. Run it and inspect some of the images and their labels to confirm they are correct.\n",
    "\n"
   ]
  },
  {
   "cell_type": "code",
   "execution_count": 5,
   "metadata": {
    "colab": {},
    "colab_type": "code",
    "id": "GX_ky5qC--uv"
   },
   "outputs": [
    {
     "name": "stdout",
     "output_type": "stream",
     "text": [
      "Downloading http://yann.lecun.com/exdb/mnist/train-images-idx3-ubyte.gz\n",
      "Downloading http://yann.lecun.com/exdb/mnist/train-labels-idx1-ubyte.gz\n",
      "Downloading http://yann.lecun.com/exdb/mnist/t10k-images-idx3-ubyte.gz\n",
      "Downloading http://yann.lecun.com/exdb/mnist/t10k-labels-idx1-ubyte.gz\n",
      "Processing...\n",
      "Done!\n"
     ]
    }
   ],
   "source": [
    "# Load the training and test dataset.\n",
    "mnist_train = datasets.MNIST('/tmp/mnist', train=True, download=True)\n",
    "mnist_test = datasets.MNIST('/tmp/mnist', train=False, download=True)"
   ]
  },
  {
   "cell_type": "code",
   "execution_count": 6,
   "metadata": {
    "colab": {},
    "colab_type": "code",
    "id": "E8dy7-kBHwco"
   },
   "outputs": [
    {
     "data": {
      "image/png": "[encoded data removed]",
      "text/plain": [
       "<PIL.Image.Image image mode=L size=28x28 at 0x7FD0E5E020F0>"
      ]
     },
     "execution_count": 6,
     "metadata": {},
     "output_type": "execute_result"
    }
   ],
   "source": [
    "# Show a random image and the corresponding target.\n",
    "img, target = mnist_train[0]\n",
    "#print('Label of image:', mnist_train.classes[target])\n",
    "img"
   ]
  },
  {
   "cell_type": "markdown",
   "metadata": {
    "colab_type": "text",
    "id": "aKbXgidhWr6L"
   },
   "source": [
    "Next, we create a PyTorch dataloader for the MNIST dataset."
   ]
  },
  {
   "cell_type": "code",
   "execution_count": 7,
   "metadata": {
    "colab": {},
    "colab_type": "code",
    "id": "ay0iiI1kWyMC"
   },
   "outputs": [],
   "source": [
    "# This ensures the MNIST dataset produces PyTorch tensors.\n",
    "mnist_train.transform = transforms.ToTensor()\n",
    "mnist_test.transform = transforms.ToTensor()\n",
    "\n",
    "# Size of the batches the data loader will produce.\n",
    "batch_size = 64\n",
    "\n",
    "# This creates the dataloaders.\n",
    "train_loader = torch.utils.data.DataLoader(mnist_train, batch_size=batch_size, shuffle=True)\n",
    "test_loader = torch.utils.data.DataLoader(mnist_test, batch_size=batch_size, shuffle=False)"
   ]
  },
  {
   "cell_type": "markdown",
   "metadata": {
    "colab_type": "text",
    "id": "liekFZzvYX9E"
   },
   "source": [
    "Next, implement a logistic regression model in PyTorch. Note that a logistic regressor uses a linear transformation of the input.\n"
   ]
  },
  {
   "cell_type": "code",
   "execution_count": 8,
   "metadata": {
    "colab": {},
    "colab_type": "code",
    "id": "eFtFvYF3GVRz"
   },
   "outputs": [
    {
     "data": {
      "text/plain": [
       "torch.Size([64, 1, 28, 28])"
      ]
     },
     "execution_count": 8,
     "metadata": {},
     "output_type": "execute_result"
    }
   ],
   "source": [
    "next(iter(train_loader))[0].shape"
   ]
  },
  {
   "cell_type": "code",
   "execution_count": 9,
   "metadata": {
    "colab": {},
    "colab_type": "code",
    "id": "zEw5YorSYkWF"
   },
   "outputs": [],
   "source": [
    "class LogisticRegression(nn.Module):\n",
    "    \n",
    "  #\"\"\"Linear logistic regression model.\"\"\"\n",
    "  \n",
    "    def __init__(self, input_size, num_classes):\n",
    "        super().__init__()\n",
    "\n",
    "        ###########################################################################\n",
    "        # TODO: Instantiate the layer here.                                       #\n",
    "        ###########################################################################\n",
    "        self.linear= nn.Linear(input_size,num_classes)\n",
    "    \n",
    "    def forward(self, x):\n",
    "        # Input is a batch of images.\n",
    "        # Its shape os (batch_size, 1, input_size, input_size).\n",
    "        # Output should have shape (batch_size, num_classes)\n",
    "        assert x.shape[1:] == (1, 28, 28)\n",
    "        ###########################################################################\n",
    "        # TODO: Apply the layer to the input.                                     #\n",
    "        # Hint: you may use .view() method to change dimensions                   # \n",
    "        ###########################################################################\n",
    "        x = self.linear(x.view(-1,28*28))\n",
    "        return x\n"
   ]
  },
  {
   "cell_type": "markdown",
   "metadata": {
    "colab_type": "text",
    "id": "HCerRXDHZFAS"
   },
   "source": [
    "We will use the following generic training loop for a PyTorch model."
   ]
  },
  {
   "cell_type": "code",
   "execution_count": 10,
   "metadata": {
    "colab": {},
    "colab_type": "code",
    "id": "qVyEKl3OZLJw"
   },
   "outputs": [],
   "source": [
    "def train(model, criterion, data_loader, optimizer, num_epochs):\n",
    "    \n",
    "    \"\"\"Simple training loop for a PyTorch model.\"\"\"\n",
    "    \n",
    "    # Make sure model is in training mode.\n",
    "    model.train()\n",
    "    # Move model to the device.\n",
    "    model.to(device)\n",
    "    \n",
    "    # Exponential moving average of the loss.\n",
    "    ema_loss = None\n",
    "    \n",
    "    # Loop over epochs.\n",
    "    for epoch in range(num_epochs):\n",
    "        \n",
    "      \n",
    "      # Loop over data.\n",
    "        for batch_idx, (data, target) in enumerate(data_loader):\n",
    "            data = data.to(device)\n",
    "            target = target.to(device)\n",
    "        \n",
    "            # Forward pass.\n",
    "            output = model(data)\n",
    "            loss = criterion(output, target)\n",
    "          \n",
    "            # Backward pass.\n",
    "            optimizer.zero_grad()\n",
    "            loss.backward()\n",
    "            optimizer.step()\n",
    "          \n",
    "            if ema_loss is None:\n",
    "                ema_loss = loss.item()\n",
    "            else:\n",
    "                ema_loss += (loss.item() - ema_loss) * 0.01 \n",
    "\n",
    "              # Print out progress.\n",
    "            if batch_idx % 500 == 0:\n",
    "                print('Train Epoch: {} [{}/{} ({:.0f}%)]\\tLoss: {:.6f}'.format(\n",
    "                    epoch, batch_idx * len(data), \n",
    "                    len(data_loader.dataset),\n",
    "                    100. * batch_idx / len(data_loader), ema_loss),\n",
    "                     )"
   ]
  },
  {
   "cell_type": "markdown",
   "metadata": {
    "colab_type": "text",
    "id": "oN8qTuGkZ-3X"
   },
   "source": [
    "**Question:** For the model you are currently using, is there any difference between using the model in `train` mode or using it in `eval` mode? \n",
    "\n",
    "Create an SGD optimizer and us it to train the logistic regressor on the MNIST training data for a few epochs. What loss function do you need to use?"
   ]
  },
  {
   "cell_type": "markdown",
   "metadata": {},
   "source": [
    "**Answer:**\n",
    "\n",
    "- There is no difference between using the model or in train\n",
    "\n",
    "- i will use CrossEntropyLoss because we MNIST have many classes."
   ]
  },
  {
   "cell_type": "code",
   "execution_count": 11,
   "metadata": {
    "colab": {},
    "colab_type": "code",
    "id": "kC3z31pvadeP"
   },
   "outputs": [
    {
     "name": "stdout",
     "output_type": "stream",
     "text": [
      "Train Epoch: 0 [0/60000 (0%)]\tLoss: 2.326765\n",
      "Train Epoch: 0 [32000/60000 (53%)]\tLoss: 0.440161\n",
      "Train Epoch: 1 [0/60000 (0%)]\tLoss: 0.373303\n",
      "Train Epoch: 1 [32000/60000 (53%)]\tLoss: 0.327123\n",
      "Train Epoch: 2 [0/60000 (0%)]\tLoss: 0.329779\n",
      "Train Epoch: 2 [32000/60000 (53%)]\tLoss: 0.321089\n",
      "Train Epoch: 3 [0/60000 (0%)]\tLoss: 0.312929\n",
      "Train Epoch: 3 [32000/60000 (53%)]\tLoss: 0.292435\n",
      "Train Epoch: 4 [0/60000 (0%)]\tLoss: 0.299211\n",
      "Train Epoch: 4 [32000/60000 (53%)]\tLoss: 0.306271\n"
     ]
    }
   ],
   "source": [
    "# Create model, criterion, and optimizer.\n",
    "model = LogisticRegression(28 * 28, 10)\n",
    "###########################################################################\n",
    "# TODO: Create criterion and optimize here.                               #\n",
    "# Hint: see                                                               #\n",
    "#   https://pytorch.org/docs/stable/nn.html#loss-functions                #\n",
    "#   https://pytorch.org/docs/stable/optim.html                            #\n",
    "###########################################################################\n",
    "criterion = nn.CrossEntropyLoss()\n",
    "optimizer = torch.optim.SGD(model.parameters(), lr = 0.01, momentum=0.9)\n",
    "#optimizer = torch.optim.Adam(model.parameters(),lr=0.0001)\n",
    "\n",
    "# Train the model. If everything is correct, the loss should go below 0.45.\n",
    "train(model, criterion, train_loader, optimizer, num_epochs=5)"
   ]
  },
  {
   "cell_type": "markdown",
   "metadata": {
    "colab_type": "text",
    "id": "x0QN7Mhiar7d"
   },
   "source": [
    "Visualize the weights of the trained model. What do you see? Why?"
   ]
  },
  {
   "cell_type": "markdown",
   "metadata": {},
   "source": [
    "**Answer:**\n",
    "\n"
   ]
  },
  {
   "cell_type": "code",
   "execution_count": 12,
   "metadata": {
    "colab": {},
    "colab_type": "code",
    "id": "gxletH44a4MX"
   },
   "outputs": [
    {
     "data": {
      "image/png": "[encoded data removed]",
      "text/plain": [
       "<Figure size 432x288 with 1 Axes>"
      ]
     },
     "metadata": {
      "needs_background": "light"
     },
     "output_type": "display_data"
    }
   ],
   "source": [
    "assert model.linear.weight.shape == (10, 28 * 28)\n",
    "show(torchvision.utils.make_grid(\n",
    "    model.linear.weight.view(10, 1, 28, 28),\n",
    "    normalize=True,\n",
    "    nrow=5,\n",
    "))"
   ]
  },
  {
   "cell_type": "markdown",
   "metadata": {
    "colab_type": "text",
    "id": "Lxf5NxQ6a5cT"
   },
   "source": [
    "Use the following function to measure the test accuracy of your trained model."
   ]
  },
  {
   "cell_type": "code",
   "execution_count": 13,
   "metadata": {
    "colab": {},
    "colab_type": "code",
    "id": "8UYWbqZYa9Qr"
   },
   "outputs": [],
   "source": [
    "def test(model, data_loader):\n",
    "    \"\"\"Measures the accuracy of a model on a data set.\"\"\"\n",
    "    \n",
    "    # Make sure the model is in evaluation mode.\n",
    "    model.eval()\n",
    "    correct = 0\n",
    "\n",
    "    # We do not need to maintain intermediate activations while testing.\n",
    "    with torch.no_grad():\n",
    "      \n",
    "        # Loop over test data.\n",
    "        for data, target in data_loader:\n",
    "          \n",
    "            # Forward pass.\n",
    "            output = model(data.to(device))\n",
    "            \n",
    "            # Get the label corresponding to the highest predicted probability.\n",
    "            pred = output.argmax(dim=1, keepdim=True)\n",
    "            \n",
    "            # Count number of correct predictions.\n",
    "            correct += pred.cpu().eq(target.view_as(pred)).sum().item()\n",
    "\n",
    "    # Print test accuracy.\n",
    "    print('Accuracy: {}/{} ({:.0f}%)\\n'.format(\n",
    "          correct, \n",
    "          len(data_loader.dataset),\n",
    "          100. * correct / len(data_loader.dataset)),\n",
    "    )  "
   ]
  },
  {
   "cell_type": "code",
   "execution_count": 14,
   "metadata": {
    "colab": {},
    "colab_type": "code",
    "id": "MrEY_dy5AKQV"
   },
   "outputs": [
    {
     "name": "stdout",
     "output_type": "stream",
     "text": [
      "Accuracy: 9205/10000 (92%)\n",
      "\n"
     ]
    }
   ],
   "source": [
    "# Accuracy should be around 90%.\n",
    "test(model, test_loader)"
   ]
  },
  {
   "cell_type": "markdown",
   "metadata": {
    "colab_type": "text",
    "id": "g1DV-MS2bxYq"
   },
   "source": [
    "**Question:** To have the logistic regressor output probabilities, they need to be processed through a softmax layer. Implement a softmax layer yourself. What numerical issues may arise in this layer? How can you solve them? Use the testing code to confirm you implemented it correctly."
   ]
  },
  {
   "cell_type": "markdown",
   "metadata": {},
   "source": [
    "**Answer:**\n",
    "- We arise the problem of Numerical precision. To solve it we will substract the Max of the logits to the logits. "
   ]
  },
  {
   "cell_type": "code",
   "execution_count": 15,
   "metadata": {
    "colab": {},
    "colab_type": "code",
    "id": "Dj4X2PnOfK9W"
   },
   "outputs": [
    {
     "name": "stdout",
     "output_type": "stream",
     "text": [
      "tensor(nan) tensor(1.0000)\n"
     ]
    }
   ],
   "source": [
    "def bad_softmax(logits):\n",
    "    \"\"\"Computes softmax in a naive manner.\"\"\"\n",
    "    probs = logits.exp()\n",
    "    probs /= probs.sum(-1, keepdim=True)\n",
    "    return probs\n",
    "\n",
    "def good_softmax(logits):\n",
    "    \"\"\"Computes softmax in a numerically safe manner.\"\"\"\n",
    "    ###########################################################################\n",
    "    # TODO: Implement a more stable way to compute softmax                    #\n",
    "    ###########################################################################\n",
    "    #probs= torch.softmax(logits, dim =1)\n",
    "    probs = (logits - max(logits)).exp()\n",
    "    probs /= probs.sum(-1, keepdim=True)\n",
    "    return probs\n",
    "\n",
    "\n",
    "# Test the new softmax layer.\n",
    "logits = torch.rand((1, 20)) + 100\n",
    "print(bad_softmax(logits).sum(), \n",
    "      good_softmax(logits).sum())  # by definition, the correct value is 1"
   ]
  },
  {
   "cell_type": "markdown",
   "metadata": {
    "colab_type": "text",
    "id": "4C_J5S0RScXJ"
   },
   "source": [
    "Because of numerical issues like the one you just experiences, PyTorch code typically uses a `LogSoftmax` layer."
   ]
  },
  {
   "cell_type": "markdown",
   "metadata": {
    "colab_type": "text",
    "id": "oSqM9k_FD8wc"
   },
   "source": [
    "### Image processing via convolutions\n",
    "\n",
    "As fun way to gain a better understanding of the type of operation that convolutional layers can perform, we will set up an input containing two images and manually set up filters that perform common image processing operations (grayscale conversion and edge detection). We use will `nn.functional.conv2d` to apply the convolutions. Neural network do the same, but with learned filters.\n",
    "\n",
    "**Question:** What kernel corresponds to a vertical edge detector? What changes if you red or green channel instead of a blue one? What does a random filter do?"
   ]
  },
  {
   "cell_type": "markdown",
   "metadata": {},
   "source": [
    "**Answer:**\n",
    "- the third kernel corresponds to a vertical edge detector on the Blue hannel\n",
    "- you will modify the indice of the second indice (insted of 2 we will have 0 for red and 1 for green)\n",
    "- random filter: "
   ]
  },
  {
   "cell_type": "code",
   "execution_count": 16,
   "metadata": {
    "colab": {},
    "colab_type": "code",
    "id": "gDHLyTmlD_WC"
   },
   "outputs": [
    {
     "data": {
      "image/png": "[encoded data removed]",
      "text/plain": [
       "<Figure size 432x288 with 8 Axes>"
      ]
     },
     "metadata": {
      "needs_background": "light"
     },
     "output_type": "display_data"
    }
   ],
   "source": [
    "# Load image of a kitten and a puppy.\n",
    "kitten_uri = (\n",
    "    \"https://upload.wikimedia.org/wikipedia/commons/thumb/1/1b\"\n",
    "    \"/Persian_Cat_%28kitten%29.jpg/256px-Persian_Cat_%28kitten%29.jpg\")\n",
    "puppy_uri = (\n",
    "    \"https://upload.wikimedia.org/wikipedia/commons/thumb/6/6e/Golde33443.jpg\"\n",
    "    \"/256px-Golde33443.jpg\")\n",
    "kitten, puppy = imageio.imread(kitten_uri), imageio.imread(puppy_uri)\n",
    "kitten = skimage.transform.resize(kitten, (200, 200))\n",
    "puppy = skimage.transform.resize(puppy, (200, 200))\n",
    "\n",
    "img_size = 200   # Make this smaller if it runs too slow\n",
    "\n",
    "x = np.zeros((2, 3, img_size, img_size))\n",
    "x[0, :, :, :] = skimage.transform.resize(puppy, (img_size, img_size)).transpose((2, 0, 1))\n",
    "x[1, :, :, :] = skimage.transform.resize(kitten, (img_size, img_size)).transpose((2, 0, 1))\n",
    "\n",
    "# Set up a convolutional weights holding 3 filters, each 3x3\n",
    "w = np.zeros((3, 3, 3, 3))\n",
    "\n",
    "# The first filter converts the image to grayscale.\n",
    "# Set up the red, green, and blue channels of the filter.\n",
    "w[0, 0, :, :] = [[0, 0, 0], [0, 0.3, 0], [0, 0, 0]]\n",
    "w[0, 1, :, :] = [[0, 0, 0], [0, 0.6, 0], [0, 0, 0]]\n",
    "w[0, 2, :, :] = [[0, 0, 0], [0, 0.1, 0], [0, 0, 0]]\n",
    "\n",
    "# Second filter detects horizontal edges in the blue channel.\n",
    "w[1, 2, :, :] = [[1, 2, 1], [0, 0, 0], [-1, -2, -1]]\n",
    "\n",
    "########################################################\n",
    "# TODO: Implement a vertial filter on blue channel.    #\n",
    "########################################################  \n",
    "# Third filter should detect vertical edge.\n",
    "#w[2, 2, :, :] = [[0, 0, 0], [0, 0, 0], [0, 0, 0]]\n",
    "w[2, 2, :, :] = w[1, 2, :, :].T\n",
    "\n",
    "# Vector of biases. We don't need any bias for the grayscale\n",
    "# filter, but for the edge detection filter we want to add 128\n",
    "# to each output so that nothing is negative.\n",
    "b = np.array([0, 128, 128])\n",
    "\n",
    "# Compute the result of convolving each input in x with each filter in w,\n",
    "# offsetting by b, and storing the results in out.\n",
    "out = nn.functional.conv2d(\n",
    "    torch.FloatTensor(x), torch.FloatTensor(w), torch.FloatTensor(b),\n",
    "    stride=1, padding=1).numpy()\n",
    "\n",
    "def imshow_noax(img, normalize=True):\n",
    "    \"\"\"Tiny helper to show images as uint8 and remove axis labels.\"\"\"\n",
    "    if normalize:\n",
    "        img_max, img_min = np.max(img), np.min(img)\n",
    "        img = 255.0 * (img - img_min) / (img_max - img_min)\n",
    "    plt.imshow(img.astype('uint8'))\n",
    "    plt.gca().axis('off')\n",
    "\n",
    "# Show the original images and the results of the conv operation\n",
    "plt.subplot(2, 4, 1)\n",
    "imshow_noax(puppy)\n",
    "plt.title('Original image')\n",
    "plt.subplot(2, 4, 2)\n",
    "imshow_noax(out[0, 0])\n",
    "plt.title('Grayscale')\n",
    "plt.subplot(2, 4, 3)\n",
    "imshow_noax(out[0, 1])\n",
    "plt.title('H-Edges')\n",
    "plt.subplot(2, 4, 4)\n",
    "imshow_noax(out[0, 2])\n",
    "plt.title('Your kernel')\n",
    "plt.subplot(2, 4, 5)\n",
    "imshow_noax(kitten)\n",
    "plt.subplot(2, 4, 6)\n",
    "imshow_noax(out[1, 0])\n",
    "plt.subplot(2, 4, 7)\n",
    "imshow_noax(out[1, 1])\n",
    "plt.subplot(2, 4, 8)\n",
    "imshow_noax(out[1, 2])\n",
    "plt.show()"
   ]
  },
  {
   "cell_type": "markdown",
   "metadata": {
    "colab_type": "text",
    "id": "P0xTuXo3dyWH"
   },
   "source": [
    "### Convolutional network\n",
    "\n",
    "We will now replace the logistic regressor by a small convolutional network with two convolutional layers and a linear layer, and ReLU activations in between the layers. Implement the model and use the same functions as before to train and test the convolutional network."
   ]
  },
  {
   "cell_type": "code",
   "execution_count": 17,
   "metadata": {
    "colab": {},
    "colab_type": "code",
    "id": "vg4CO_WDeLqh"
   },
   "outputs": [
    {
     "name": "stdout",
     "output_type": "stream",
     "text": [
      "Train Epoch: 0 [0/60000 (0%)]\tLoss: 2.296409\n",
      "Train Epoch: 0 [32000/60000 (53%)]\tLoss: 0.275952\n",
      "Train Epoch: 1 [0/60000 (0%)]\tLoss: 0.149820\n",
      "Train Epoch: 1 [32000/60000 (53%)]\tLoss: 0.134324\n",
      "Train Epoch: 2 [0/60000 (0%)]\tLoss: 0.117259\n",
      "Train Epoch: 2 [32000/60000 (53%)]\tLoss: 0.095529\n",
      "Train Epoch: 3 [0/60000 (0%)]\tLoss: 0.091418\n",
      "Train Epoch: 3 [32000/60000 (53%)]\tLoss: 0.074733\n",
      "Train Epoch: 4 [0/60000 (0%)]\tLoss: 0.077670\n",
      "Train Epoch: 4 [32000/60000 (53%)]\tLoss: 0.074112\n",
      "Accuracy: 9811/10000 (98%)\n",
      "\n"
     ]
    }
   ],
   "source": [
    "class ConvolutionalNetwork(nn.Module):\n",
    "    \"\"\"Simple convolutional network.\"\"\"\n",
    "    def __init__(self, input_size, num_classes, in_channels=1):\n",
    "        super(ConvolutionalNetwork, self).__init__()\n",
    "        # Fill these in:\n",
    "        ##########################################################################\n",
    "        # TODO: Implement a convulutional and a linear part.                     #\n",
    "        # Hint: see forward() to understand how they should work together.       #\n",
    "        # Hint: the following may be useful: nn.Conv2d, nn.MaxPool2d.            #\n",
    "        ##########################################################################\n",
    "        self.conv_network = nn.Sequential(\n",
    "            nn.Conv2d(in_channels,out_channels=8,kernel_size=5), \n",
    "            nn.ReLU(),\n",
    "            nn.MaxPool2d(kernel_size=4),\n",
    "            nn.Conv2d(in_channels=8,out_channels=12,kernel_size=3),\n",
    "            nn.ReLU(),\n",
    "            nn.MaxPool2d(kernel_size=2), \n",
    "            )\n",
    "        self.linear= nn.Linear(2*2*12,num_classes)\n",
    "    def forward(self, x):\n",
    "        # Input is a batch of images.\n",
    "        # Its shape os (batch_size, 1, input_size, input_size).\n",
    "        # Output should have shape (batch_size, num_classes)\n",
    "        x = self.conv_network(x)  \n",
    "        x= self.linear(x.view(x.size(0),-1))\n",
    "        return x\n",
    "\n",
    "    \n",
    "# Create and train convolutional network.\n",
    "# The accuracy should be around 98%.\n",
    "conv_model = ConvolutionalNetwork(28, 10)\n",
    "###########################################################################\n",
    "# TODO: Create criterion and optimize here.                               #\n",
    "###########################################################################\n",
    "criterion = nn.CrossEntropyLoss()\n",
    "#optimizer = torch.optim.Adam(conv_model.parameters(), lr = 0.001)\n",
    "optimizer = torch.optim.SGD(conv_model.parameters(), lr = 0.01, momentum=0.9)\n",
    "train(conv_model, criterion, train_loader, optimizer, num_epochs=5)\n",
    "test(conv_model, test_loader)"
   ]
  },
  {
   "cell_type": "markdown",
   "metadata": {
    "colab_type": "text",
    "id": "EgLLXSScfwqK"
   },
   "source": [
    "Inspect the filters in the first layer of the trained convolutional network. What do they look like? Why?"
   ]
  },
  {
   "cell_type": "markdown",
   "metadata": {},
   "source": [
    "**Answer:**\n",
    "It looks like edge detector filter, because in the first layer, we want to separate the image into its meaningful parts."
   ]
  },
  {
   "cell_type": "code",
   "execution_count": 18,
   "metadata": {
    "colab": {},
    "colab_type": "code",
    "id": "Ye1xcjUif4e-"
   },
   "outputs": [
    {
     "data": {
      "image/png": "[encoded data removed]",
      "text/plain": [
       "<Figure size 432x288 with 1 Axes>"
      ]
     },
     "metadata": {
      "needs_background": "light"
     },
     "output_type": "display_data"
    }
   ],
   "source": [
    "first_conv = list(conv_model.conv_network.children())[0]\n",
    "show(torchvision.utils.make_grid(\n",
    "    first_conv.weight,\n",
    "    normalize=True,\n",
    "    nrow=8,\n",
    "))"
   ]
  },
  {
   "cell_type": "markdown",
   "metadata": {
    "colab_type": "text",
    "id": "FMxpPxv8EOEP"
   },
   "source": [
    "Let's visualize convolutional weights of a bigger model trained on classification of real images from ImageNet dataset. Training this network will take a lot of time, so we'll use a pre-trained model from `torchvision` package.\n",
    "These weights look rather different. Why?"
   ]
  },
  {
   "cell_type": "code",
   "execution_count": 19,
   "metadata": {
    "colab": {},
    "colab_type": "code",
    "id": "gADbMxziFsOh"
   },
   "outputs": [
    {
     "data": {
      "image/png": "[encoded data removed]",
      "text/plain": [
       "<Figure size 576x576 with 1 Axes>"
      ]
     },
     "metadata": {
      "needs_background": "light"
     },
     "output_type": "display_data"
    }
   ],
   "source": [
    "plt.figure(figsize=(8, 8))\n",
    "show(torchvision.utils.make_grid(\n",
    "    torchvision.models.resnet18(pretrained=True).conv1.weight.data,\n",
    "    normalize=True,\n",
    "    nrow=8,\n",
    "))"
   ]
  },
  {
   "cell_type": "markdown",
   "metadata": {
    "colab_type": "text",
    "id": "ncHkdY3df6R7"
   },
   "source": [
    "**Question [optional]:** Implement your own version of forward pass of nn.Conv2d in numpy **without** using any of pre-defined convolutional functions."
   ]
  },
  {
   "cell_type": "code",
   "execution_count": 19,
   "metadata": {
    "colab": {},
    "colab_type": "code",
    "id": "RV30kha3vSsC"
   },
   "outputs": [],
   "source": [
    "def conv_forward_naive(x, w, b, conv_param):\n",
    "    \"\"\"\n",
    "    A naive Python implementation of a convolutional layer.\n",
    "    The input consists of N data points, each with C channels, height H and\n",
    "    width W. We convolve each input with F different filters, where each filter\n",
    "    spans all C channels and has height HH and width WW.\n",
    "    Input:\n",
    "    - x: Input data of shape (N, C, H, W)\n",
    "    - w: Filter weights of shape (F, C, HH, WW)\n",
    "    - b: Biases, of shape (F,)\n",
    "    - conv_param: A dictionary with the following keys:\n",
    "      - 'stride': The number of pixels between adjacent receptive fields in the\n",
    "        horizontal and vertical directions.\n",
    "      - 'pad': The number of pixels that will be used to zero-pad the input. \n",
    "        \n",
    "    During padding, 'pad' zeros should be placed symmetrically (i.e equally on both sides)\n",
    "    along the height and width axes of the input. Be careful not to modfiy the original\n",
    "    input x directly.\n",
    "    Returns an array.\n",
    "    - out: Output data, of shape (N, F, H', W') where H' and W' are given by\n",
    "      H' = 1 + (H + 2 * pad - HH) / stride\n",
    "      W' = 1 + (W + 2 * pad - WW) / stride\n",
    "    \"\"\"\n",
    "    out = None\n",
    "\n",
    "    N, C, H, W = x.shape\n",
    "    num_filters, _, filter_height, filter_width = w.shape\n",
    "    stride, pad = conv_param['stride'], conv_param['pad']\n",
    "\n",
    "    # Check dimensions.\n",
    "    assert (W + 2 * pad - filter_width) % stride == 0, 'width does not work'\n",
    "    assert (H + 2 * pad - filter_height) % stride == 0, 'height does not work'\n",
    "\n",
    "    ###########################################################################\n",
    "    # TODO: Implement the convolutional forward pass (in numpy).              #\n",
    "    # Hint: you can use the function np.pad for padding.                      #\n",
    "    ###########################################################################\n",
    "    return out\n"
   ]
  },
  {
   "cell_type": "markdown",
   "metadata": {
    "colab_type": "text",
    "id": "6dDNQP8VvVVj"
   },
   "source": [
    "You can test your implementation by running the following:"
   ]
  },
  {
   "cell_type": "code",
   "execution_count": 20,
   "metadata": {
    "colab": {},
    "colab_type": "code",
    "id": "7Leww6XRuC_0"
   },
   "outputs": [
    {
     "name": "stdout",
     "output_type": "stream",
     "text": [
      "Testing conv_forward_naive\n"
     ]
    },
    {
     "ename": "TypeError",
     "evalue": "unsupported operand type(s) for -: 'NoneType' and 'float'",
     "output_type": "error",
     "traceback": [
      "\u001b[0;31m---------------------------------------------------------------------------\u001b[0m",
      "\u001b[0;31mTypeError\u001b[0m                                 Traceback (most recent call last)",
      "\u001b[0;32m<ipython-input-20-b1244cb91208>\u001b[0m in \u001b[0;36m<module>\u001b[0;34m\u001b[0m\n\u001b[1;32m     24\u001b[0m \u001b[0;31m# Compare your output to ours; difference should be around e-8\u001b[0m\u001b[0;34m\u001b[0m\u001b[0;34m\u001b[0m\u001b[0m\n\u001b[1;32m     25\u001b[0m \u001b[0mprint\u001b[0m\u001b[0;34m(\u001b[0m\u001b[0;34m'Testing conv_forward_naive'\u001b[0m\u001b[0;34m)\u001b[0m\u001b[0;34m\u001b[0m\u001b[0m\n\u001b[0;32m---> 26\u001b[0;31m \u001b[0mrel_error\u001b[0m \u001b[0;34m=\u001b[0m \u001b[0;34m(\u001b[0m\u001b[0;34m(\u001b[0m\u001b[0mout\u001b[0m \u001b[0;34m-\u001b[0m \u001b[0mcorrect_out\u001b[0m\u001b[0;34m)\u001b[0m \u001b[0;34m/\u001b[0m \u001b[0;34m(\u001b[0m\u001b[0mout\u001b[0m \u001b[0;34m+\u001b[0m \u001b[0mcorrect_out\u001b[0m \u001b[0;34m+\u001b[0m \u001b[0;36m1e-6\u001b[0m\u001b[0;34m)\u001b[0m\u001b[0;34m)\u001b[0m\u001b[0;34m.\u001b[0m\u001b[0mmean\u001b[0m\u001b[0;34m(\u001b[0m\u001b[0;34m)\u001b[0m\u001b[0;34m\u001b[0m\u001b[0m\n\u001b[0m\u001b[1;32m     27\u001b[0m \u001b[0mprint\u001b[0m\u001b[0;34m(\u001b[0m\u001b[0;34m'difference: '\u001b[0m\u001b[0;34m,\u001b[0m \u001b[0mrel_error\u001b[0m\u001b[0;34m)\u001b[0m\u001b[0;34m\u001b[0m\u001b[0m\n\u001b[1;32m     28\u001b[0m \u001b[0;32massert\u001b[0m \u001b[0mabs\u001b[0m\u001b[0;34m(\u001b[0m\u001b[0mrel_error\u001b[0m\u001b[0;34m)\u001b[0m \u001b[0;34m<\u001b[0m \u001b[0;36m1e-6\u001b[0m\u001b[0;34m,\u001b[0m \u001b[0;34m'Something is wrong'\u001b[0m\u001b[0;34m\u001b[0m\u001b[0m\n",
      "\u001b[0;31mTypeError\u001b[0m: unsupported operand type(s) for -: 'NoneType' and 'float'"
     ]
    }
   ],
   "source": [
    "# Make convolution module.\n",
    "w_shape = (3, 3, 4, 4)\n",
    "w = np.linspace(-0.2, 0.3, num=np.prod(w_shape)).reshape(w_shape)\n",
    "b = np.linspace(-0.1, 0.2, num=3)\n",
    "\n",
    "# Compute output of module and compare against reference values.\n",
    "x_shape = (2, 3, 4, 4)\n",
    "x = np.linspace(-0.1, 0.5, num=np.prod(x_shape)).reshape(x_shape)\n",
    "out = conv_forward_naive(x, w, b, {'stride': 2, 'pad': 1})\n",
    "\n",
    "correct_out = np.array([[[[-0.08759809, -0.10987781],\n",
    "                           [-0.18387192, -0.2109216 ]],\n",
    "                          [[ 0.21027089,  0.21661097],\n",
    "                           [ 0.22847626,  0.23004637]],\n",
    "                          [[ 0.50813986,  0.54309974],\n",
    "                           [ 0.64082444,  0.67101435]]],\n",
    "                         [[[-0.98053589, -1.03143541],\n",
    "                           [-1.19128892, -1.24695841]],\n",
    "                          [[ 0.69108355,  0.66880383],\n",
    "                           [ 0.59480972,  0.56776003]],\n",
    "                          [[ 2.36270298,  2.36904306],\n",
    "                           [ 2.38090835,  2.38247847]]]])\n",
    "\n",
    "# Compare your output to ours; difference should be around e-8\n",
    "print('Testing conv_forward_naive')\n",
    "rel_error = ((out - correct_out) / (out + correct_out + 1e-6)).mean()\n",
    "print('difference: ', rel_error)\n",
    "assert abs(rel_error) < 1e-6, 'Something is wrong'"
   ]
  }
 ],
 "metadata": {
  "accelerator": "GPU",
  "colab": {
   "collapsed_sections": [],
   "name": "convnet_tutorial1.ipynb",
   "provenance": [],
   "version": "0.3.2"
  },
  "kernelspec": {
   "display_name": "Python 3",
   "language": "python",
   "name": "python3"
  },
  "language_info": {
   "codemirror_mode": {
    "name": "ipython",
    "version": 3
   },
   "file_extension": ".py",
   "mimetype": "text/x-python",
   "name": "python",
   "nbconvert_exporter": "python",
   "pygments_lexer": "ipython3",
   "version": "3.5.3"
  }
 },
 "nbformat": 4,
 "nbformat_minor": 1
}
